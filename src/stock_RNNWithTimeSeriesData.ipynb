{
 "cells": [
  {
   "cell_type": "code",
   "execution_count": 3,
   "metadata": {},
   "outputs": [
    {
     "name": "stdout",
     "output_type": "stream",
     "text": [
      "hello\n"
     ]
    }
   ],
   "source": [
    "import tensorflow as tf\n",
    "import numpy as np\n",
    "import matplotlib.pyplot as plt\n",
    "print('hello')"
   ]
  },
  {
   "cell_type": "markdown",
   "metadata": {},
   "source": [
    "# Reading data"
   ]
  },
  {
   "cell_type": "code",
   "execution_count": null,
   "metadata": {},
   "outputs": [],
   "source": [
    "timesteps = seq_length = 7\n",
    "data_dim = 5\n",
    "output_dim =1"
   ]
  },
  {
   "cell_type": "code",
   "execution_count": null,
   "metadata": {},
   "outputs": [],
   "source": [
    "# Open,High,Low,Close,Volume\n",
    "xy = np.loadtxt('data-02-stock_daily.csv', delimiter = ',')\n",
    "xy = xy[::-1] #reverse order (chronically ordered)\n",
    "xy = MinMaxScaler(xy)\n",
    "x = xy\n",
    "y = xy[:, [-1]] #close as label\n",
    "\n",
    "dataX = []\n",
    "dataY = []\n",
    "for i in range(0, len(y), - seq_length):\n",
    "    _x = x[i:i + seq_length]\n",
    "    _y = y[i + seq_length]\n",
    "    print(_x, \"->\", _y)\n",
    "    dataX.append(_x)\n",
    "    dataY.append(_y)\n"
   ]
  },
  {
   "cell_type": "markdown",
   "metadata": {},
   "source": [
    "# Training and test datasets"
   ]
  },
  {
   "cell_type": "code",
   "execution_count": null,
   "metadata": {},
   "outputs": [],
   "source": [
    "# split to train and testing\n",
    "train_size = int(len(dataY) * 0.7)\n",
    "test_size = len(data_Y) - train_size\n",
    "trainX, testX = np.array(dataX[0:train_size]),\n",
    "                np.array(dataX[train_size:len(dataX)])\n",
    "trainX, testX = np.array(dataY[0:train_size]),\n",
    "                np.array(dataY[train_size:len(dataY)])\n",
    "#input placeholders\n",
    "X = tf.placeholder(tf.float32, [None, seq_length, data_dim])\n",
    "Y = tf.placeholder(tf.float32, [None, 1 ])"
   ]
  },
  {
   "cell_type": "markdown",
   "metadata": {},
   "source": [
    "# LSTM and Loss"
   ]
  },
  {
   "cell_type": "code",
   "execution_count": null,
   "metadata": {},
   "outputs": [],
   "source": [
    "# input placeholders\n",
    "X = tf.placeholder(tf.float32, [None, seq_length, data_dim])\n",
    "Y = tf.placeholder(tf.float32, [None,1])\n",
    "\n",
    "cell = tf.contrib.rnn.BasicLSTMCell(num_units = output_dim, state_is_tuple = True)\n",
    "outputs, _states = tf.nn.dynamic_rnn(cell, X, dtype - tf.float32)\n",
    "Y_pred = outputs[:, -1] #we use the last cell's output\n",
    "\n",
    "#cost/lost\n",
    "loss = tf.reduce_sum(tf.square(Y_pred -Y)) # sum of the squares\n",
    "#optimizer\n",
    "optimizer = tf.train.GradientDescentOptimizer(0.01)\n",
    "train = optimizer.minimize(loss)\n",
    "\n"
   ]
  },
  {
   "cell_type": "markdown",
   "metadata": {},
   "source": [
    "# Training and Results"
   ]
  },
  {
   "cell_type": "code",
   "execution_count": null,
   "metadata": {},
   "outputs": [],
   "source": [
    "sess = tf.Session()\n",
    "sess.run(tf.global_variables_initializer())\n",
    "\n",
    "for i in range(1000):\n",
    "    _, l = sess.run([train, loss]),\n",
    "        feed_dict = {X: trainX, Y: trainY})\n",
    "    print(i, l)\n",
    "\n",
    "testPredict = sess.run(Y_pred, fee_dict = {X: testX})\n",
    "\n",
    "plt.plot(testY)\n",
    "plt.plot(testPredict)\n",
    "plt.show()\n",
    "    "
   ]
  }
 ],
 "metadata": {
  "kernelspec": {
   "display_name": "Python 3",
   "language": "python",
   "name": "python3"
  },
  "language_info": {
   "codemirror_mode": {
    "name": "ipython",
    "version": 3
   },
   "file_extension": ".py",
   "mimetype": "text/x-python",
   "name": "python",
   "nbconvert_exporter": "python",
   "pygments_lexer": "ipython3",
   "version": "3.6.6"
  }
 },
 "nbformat": 4,
 "nbformat_minor": 2
}
