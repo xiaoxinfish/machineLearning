{
 "cells": [
  {
   "cell_type": "markdown",
   "metadata": {},
   "source": [
    "### Main()"
   ]
  },
  {
   "cell_type": "code",
   "execution_count": null,
   "metadata": {},
   "outputs": [],
   "source": [
    "#!/usr/bin/python\n",
    "import sys\n",
    "import getopt\n",
    "\n",
    "class Usage(Exception):\n",
    "    def __init__(self, msg):\n",
    "        self.msg = msg\n",
    "\n",
    "def main(argv=None):\n",
    "    if argv is None:\n",
    "        argv = sys.argv\n",
    "    try:\n",
    "        try:\n",
    "            opts, args = getopt.getopt(argv[1:], \"h\", [\"help\"])\n",
    "        except getopt.error, msg:\n",
    "            raise Usage(msg)\n",
    "    except Usage, err:\n",
    "        print >>sys.stderr, err.msg\n",
    "        print >>sys.stderr, \"for help use --help\"\n",
    "        return 2\n",
    "\n",
    "if __name__ == \"__main__\":\n",
    "    sys.exit(main())"
   ]
  }
 ],
 "metadata": {
  "kernelspec": {
   "display_name": "Python 3",
   "language": "python",
   "name": "python3"
  },
  "language_info": {
   "codemirror_mode": {
    "name": "ipython",
    "version": 3
   },
   "file_extension": ".py",
   "mimetype": "text/x-python",
   "name": "python",
   "nbconvert_exporter": "python",
   "pygments_lexer": "ipython3",
   "version": "3.6.5"
  }
 },
 "nbformat": 4,
 "nbformat_minor": 2
}
