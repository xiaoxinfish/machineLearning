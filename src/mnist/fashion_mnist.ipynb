{
 "cells": [
  {
   "cell_type": "code",
   "execution_count": 20,
   "metadata": {},
   "outputs": [
    {
     "name": "stdout",
     "output_type": "stream",
     "text": [
      "1.12.0\n"
     ]
    }
   ],
   "source": [
    "# TensorFlow and tf.keras\n",
    "import tensorflow as tf\n",
    "from tensorflow import keras\n",
    "\n",
    "# Helper libraries\n",
    "import numpy as np\n",
    "import matplotlib.pyplot as plt\n",
    "\n",
    "print(tf.__version__)\n",
    "\n",
    "train_images = None\n",
    "train_labels = None\n",
    "test_images = None\n",
    "test_labels = None\n",
    "model = None\n"
   ]
  },
  {
   "cell_type": "markdown",
   "metadata": {},
   "source": [
    "### Fashion_mnist"
   ]
  },
  {
   "cell_type": "code",
   "execution_count": 2,
   "metadata": {},
   "outputs": [],
   "source": [
    "from tensorflow.examples.tutorials.mnist import input_data\n",
    "\n",
    "def fashion_mnist():\n",
    "    fashion_mnist = input_data.read_data_sets(r'dataset\\fashion_mnist') \n",
    "    print(type(fashion_mnist))\n",
    "    global train_images, train_labels, test_images, test_labels\n",
    "    train_images, train_labels = fashion_mnist.train.images,fashion_mnist.train.labels\n",
    "    test_images, test_labels = fashion_mnist.test.images, fashion_mnist.test.labels\n",
    "\n",
    "    train_images = train_images.reshape(-1, 28, 28).astype('float32')\n",
    "    test_images = test_images.reshape(-1,28, 28).astype('float32')\n",
    "    \n",
    "    class_names = ['T-shirt/top', 'Trouser', 'Pullover', 'Dress', 'Coat',\n",
    "                'Sandal', 'Shirt', 'Sneaker', 'Bag', 'Ankle boot']\n",
    "    print(\"train_images.shape:{}, type:{}\".format(train_images.shape, type(train_images)))\n",
    "    print(\"test_images.shape:{}\".format(test_images.shape))\n",
    "\n",
    "    plt.figure(figsize=(10,10))\n",
    "    for i in range(25):\n",
    "        plt.subplot(5,5,i+1)\n",
    "        plt.xticks([])\n",
    "        plt.yticks([])\n",
    "        plt.grid(False)\n",
    "        plt.imshow(train_images[i], cmap=plt.cm.binary)\n",
    "        plt.xlabel(class_names[train_labels[i]])\n"
   ]
  },
  {
   "cell_type": "markdown",
   "metadata": {},
   "source": [
    "### Training"
   ]
  },
  {
   "cell_type": "code",
   "execution_count": 16,
   "metadata": {},
   "outputs": [],
   "source": [
    "def training():\n",
    "    global model\n",
    "    model = keras.Sequential([\n",
    "        keras.layers.Flatten(input_shape = (28,28)),\n",
    "        keras.layers.Dense(128, activation = tf.nn.relu),\n",
    "        keras.layers.Dense(10, activation = tf.nn.softmax)\n",
    "    ])\n",
    "    model.compile(optimizer = tf.train.AdamOptimizer(),\n",
    "                 loss = 'sparse_categorical_crossentropy',\n",
    "                 metrics = ['accuracy'])\n",
    "    print(\"train_images.shape:{}\".format(train_images.shape))\n",
    "    model.fit(train_images, train_labels, steps_per_epoch = 100, epochs = 5)"
   ]
  },
  {
   "cell_type": "markdown",
   "metadata": {},
   "source": [
    "### Evaluate"
   ]
  },
  {
   "cell_type": "code",
   "execution_count": 17,
   "metadata": {},
   "outputs": [],
   "source": [
    "def evaluate():\n",
    "    global model,test_images, test_labels\n",
    "    \n",
    "    test_loss, test_acc = model.evaluate(test_images, test_labels)\n",
    "    print('Test loss:{} Test accuracy:{}'.format(test_loss, test_acc))"
   ]
  },
  {
   "cell_type": "markdown",
   "metadata": {},
   "source": [
    "### Predict"
   ]
  },
  {
   "cell_type": "code",
   "execution_count": 50,
   "metadata": {},
   "outputs": [],
   "source": [
    "def predict():\n",
    "    global model,test_images\n",
    "    predictions = model.predict(test_images)\n",
    "    itemIndex = 6\n",
    "    argumentsMax =  np.argmax(predictions[itemIndex])\n",
    "    probabilityValue = predictions[itemIndex, argumentsMax]\n",
    "    print(\"prediction[0]:{} \\n arguments Max:{} \\n arguments Value:{}\".format(predictions[itemIndex], argumentsMax, probabilityValue))\n",
    "    print(\"Validate on test_labels:{}\".format(test_labels[itemIndex]))"
   ]
  },
  {
   "cell_type": "markdown",
   "metadata": {},
   "source": [
    "### predictions Visual"
   ]
  },
  {
   "cell_type": "code",
   "execution_count": null,
   "metadata": {},
   "outputs": [],
   "source": [
    "def plot_image(picIndex, predictions, true_labels, test_images):\n",
    "    prediction, true_label, test_image = predictions[picIndex], true_labels[picIndex], test_images[picIndex]\n",
    "    plt.grid(False)\n",
    "    plt.xticks([])\n",
    "    plt.yticks([])\n",
    "    \n",
    "    plt.imshow(img, cmap = plt.cm.binary)\n",
    "    \n",
    "    predicted_label = np.argmax(prediction)\n",
    "    if predicted_label == true_labels:\n",
    "        color = 'blue'\n",
    "    else:\n",
    "        color = 'red'\n",
    "        \n",
    "    plt.xlabel(\"{} {:2.0f}% ({})\".format()\n",
    "    "
   ]
  },
  {
   "cell_type": "markdown",
   "metadata": {},
   "source": [
    "### Main"
   ]
  },
  {
   "cell_type": "code",
   "execution_count": 54,
   "metadata": {},
   "outputs": [
    {
     "name": "stdout",
     "output_type": "stream",
     "text": [
      "10000/10000 [==============================] - 1s 50us/step\n",
      "Test loss:0.35272909731864927 Test accuracy:0.8777\n",
      "prediction[0]:[2.7337815e-03 4.5887570e-04 2.0586694e-02 1.8593720e-03 9.3282646e-01\n",
      " 1.9713734e-05 4.0480215e-02 2.0228593e-07 1.0344627e-03 6.7022981e-08] \n",
      " arguments Max:4 \n",
      " arguments Value:0.9328264594078064\n",
      "Validate on test_labels:4\n",
      "(10000, 28, 28)\n"
     ]
    }
   ],
   "source": [
    "if __name__==\"__main__\":\n",
    "    isTrainingNeeded = False\n",
    "    if isTrainingNeeded:\n",
    "        fashion_mnist()\n",
    "        training()\n",
    "    evaluate()\n",
    "    predict()\n",
    "    print(test_images.shape)"
   ]
  }
 ],
 "metadata": {
  "kernelspec": {
   "display_name": "Python 3",
   "language": "python",
   "name": "python3"
  },
  "language_info": {
   "codemirror_mode": {
    "name": "ipython",
    "version": 3
   },
   "file_extension": ".py",
   "mimetype": "text/x-python",
   "name": "python",
   "nbconvert_exporter": "python",
   "pygments_lexer": "ipython3",
   "version": "3.6.5"
  }
 },
 "nbformat": 4,
 "nbformat_minor": 2
}
