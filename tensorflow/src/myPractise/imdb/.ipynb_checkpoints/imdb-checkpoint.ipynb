{
 "cells": [
  {
   "cell_type": "code",
   "execution_count": 15,
   "metadata": {},
   "outputs": [
    {
     "name": "stdout",
     "output_type": "stream",
     "text": [
      "1.12.0\n"
     ]
    }
   ],
   "source": [
    "import tensorflow as tf\n",
    "from tensorflow import keras\n",
    "import numpy as np\n",
    "import os\n",
    "import matplotlib.pyplot as plt\n",
    "\n",
    "print(tf.__version__)\n",
    "\n",
    "NUM_WORDS = 10000\n",
    "NUM_SAMPLE = 10000\n",
    "reverse_word_index = None\n",
    "train_data = None\n",
    "train_labels = None\n",
    "test_data = None\n",
    "test_labels = None\n",
    "history = None\n",
    "baseline_history = None\n",
    "smaller_history = None\n",
    "bigger_history = None\n",
    "l2_model_history = None\n",
    "dpt_model_history = None"
   ]
  },
  {
   "cell_type": "markdown",
   "metadata": {},
   "source": [
    "### Get data and create dictionary for word index"
   ]
  },
  {
   "cell_type": "code",
   "execution_count": 16,
   "metadata": {},
   "outputs": [],
   "source": [
    "def loadDatasets():\n",
    "    global train_data, train_labels, test_data, test_labels\n",
    "    imdb = keras.datasets.imdb\n",
    "    (train_data, train_labels), (test_data, test_labels) = imdb.load_data(num_words=10000, path=os.getcwd() + r\"\\datasets\\imdb.npz\")\n",
    "    print(\"Training entries:{}, labels:{}\".format(len(train_data), len(train_labels)))\n",
    "    print(\"train_data.shape:{}\\nlength of train_data[0]:{} length of train_data[1]:{}\"\n",
    "          .format(train_data.shape, len(train_data[0]), len(train_data[1])))\n",
    "    \n",
    "    global reverse_word_index\n",
    "    # A dictionary mapping words to an integer index\n",
    "    word_index = imdb.get_word_index(path=os.getcwd() + r\"\\datasets\\imdb_word_index.json\")\n",
    "\n",
    "    # The first indices are reserved\n",
    "    word_index = {k:(v+3) for k,v in word_index.items()}\n",
    "    word_index[\"<PAD>\"] = 0\n",
    "    word_index[\"<START>\"] = 1\n",
    "    word_index[\"<UNK>\"] = 2  # unknown\n",
    "    word_index[\"<UNUSED>\"] = 3\n",
    "\n",
    "    reverse_word_index = dict([(value, key) for (key, value) in word_index.items()])\n",
    "    \n",
    "    train_data = keras.preprocessing.sequence.pad_sequences(train_data,\n",
    "                                                           value = word_index[\"<PAD>\"],\n",
    "                                                           padding = 'post',\n",
    "                                                           maxlen = 256)\n",
    "    test_data = keras.preprocessing.sequence.pad_sequences(test_data,\n",
    "                                                       value=word_index[\"<PAD>\"],\n",
    "                                                       padding='post',\n",
    "                                                       maxlen=256)"
   ]
  },
  {
   "cell_type": "code",
   "execution_count": 17,
   "metadata": {},
   "outputs": [],
   "source": [
    "def multi_hot_sequences(sequences, dimension):\n",
    "    # Create an all-zero matrix of shape (len(sequences), dimension)\n",
    "    results = np.zeros((len(sequences), dimension))\n",
    "    for i, word_indices in enumerate(sequences):\n",
    "        results[i, word_indices] = 1.0  # set specific indices of results[i] to 1s\n",
    "    return results"
   ]
  },
  {
   "cell_type": "code",
   "execution_count": 18,
   "metadata": {},
   "outputs": [],
   "source": [
    "def restractOverFit():\n",
    "    global train_data, test_data\n",
    "    train_data = multi_hot_sequences(train_data, dimension=NUM_WORDS)\n",
    "    test_data = multi_hot_sequences(test_data, dimension=NUM_WORDS) \n",
    "    plt.plot(train_data[0])"
   ]
  },
  {
   "cell_type": "code",
   "execution_count": 19,
   "metadata": {},
   "outputs": [],
   "source": [
    "def decode_review(text):\n",
    "    return ' '.join([reverse_word_index[i] for i in text])"
   ]
  },
  {
   "cell_type": "code",
   "execution_count": 20,
   "metadata": {},
   "outputs": [],
   "source": [
    "def neualNetwork():\n",
    "    global history\n",
    "    vocab_size = 10000\n",
    "    \n",
    "    model = keras.Sequential()\n",
    "    model.add(keras.layers.Embedding(vocab_size, 16))\n",
    "    model.add(keras.layers.GlobalAveragePooling1D())\n",
    "    model.add(keras.layers.Dense(16, activation = tf.nn.relu))\n",
    "    model.add(keras.layers.Dense(1, activation = tf.nn.sigmoid))\n",
    "    model.compile(optimizer = tf.train.AdamOptimizer(),\n",
    "                 loss = 'binary_crossentropy',\n",
    "                 metrics = ['accuracy'])\n",
    "    model.summary()\n",
    "    x_val = train_data[:10000]\n",
    "    partial_x_train = train_data[10000:]\n",
    "    y_val = train_labels[:10000]\n",
    "    partial_y_train = train_labels[10000:]\n",
    "    \n",
    "    history = model.fit(partial_x_train,\n",
    "                       partial_y_train,\n",
    "                       epochs = 40,\n",
    "                       batch_size =512,\n",
    "                       validation_data = (x_val, y_val),\n",
    "                       verbose =1)\n",
    "    result = model.evaluate(test_data, test_labels)\n",
    "    print(result)\n",
    "    "
   ]
  },
  {
   "cell_type": "code",
   "execution_count": 21,
   "metadata": {},
   "outputs": [],
   "source": [
    "def baseNN():\n",
    "    global baseline_history\n",
    "    baseline_model = keras.Sequential([\n",
    "        # `input_shape` is only required here so that `.summary` works.\n",
    "        keras.layers.Dense(16, activation=tf.nn.relu, input_shape=(NUM_WORDS,)),\n",
    "        keras.layers.Dense(16, activation=tf.nn.relu),\n",
    "        keras.layers.Dense(1, activation=tf.nn.sigmoid)\n",
    "    ])\n",
    "\n",
    "    baseline_model.compile(optimizer='adam',\n",
    "                           loss='binary_crossentropy',\n",
    "                           metrics=['accuracy', 'binary_crossentropy'])\n",
    "\n",
    "    baseline_model.summary()    \n",
    "\n",
    "    baseline_history = baseline_model.fit(train_data,\n",
    "                                      train_labels,\n",
    "                                      epochs=20,\n",
    "                                      batch_size=512,\n",
    "                                      validation_data=(test_data, test_labels),\n",
    "                                      verbose=2)"
   ]
  },
  {
   "cell_type": "code",
   "execution_count": 24,
   "metadata": {},
   "outputs": [],
   "source": [
    "def smallerNN():\n",
    "    global smaller_history\n",
    "    smaller_model = keras.Sequential([\n",
    "        keras.layers.Dense(4, activation=tf.nn.relu, input_shape=(NUM_WORDS,)),\n",
    "        keras.layers.Dense(4, activation=tf.nn.relu),\n",
    "        keras.layers.Dense(1, activation=tf.nn.sigmoid)\n",
    "    ])\n",
    "\n",
    "    smaller_model.compile(optimizer='adam',\n",
    "                    loss='binary_crossentropy',\n",
    "                    metrics=['accuracy', 'binary_crossentropy'])\n",
    "\n",
    "    smaller_model.summary()    \n",
    "    smaller_history = smaller_model.fit(train_data,\n",
    "                                        train_labels,\n",
    "                                        epochs=20,\n",
    "                                        batch_size=512,\n",
    "                                        validation_data=(test_data, test_labels),\n",
    "                                        verbose=2)    "
   ]
  },
  {
   "cell_type": "code",
   "execution_count": 22,
   "metadata": {},
   "outputs": [],
   "source": [
    "def biggerNN():\n",
    "    global bigger_history\n",
    "    bigger_model = keras.models.Sequential([\n",
    "        keras.layers.Dense(512, activation=tf.nn.relu, input_shape=(NUM_WORDS,)),\n",
    "        keras.layers.Dense(512, activation=tf.nn.relu),\n",
    "        keras.layers.Dense(1, activation=tf.nn.sigmoid)\n",
    "    ])\n",
    "\n",
    "    bigger_model.compile(optimizer='adam',\n",
    "                         loss='binary_crossentropy',\n",
    "                         metrics=['accuracy','binary_crossentropy'])\n",
    "\n",
    "    bigger_model.summary()    \n",
    "    bigger_history = bigger_model.fit(train_data, train_labels,\n",
    "                                      epochs=20,\n",
    "                                      batch_size=512,\n",
    "                                      validation_data=(test_data, test_labels),\n",
    "                                      verbose=2)\n"
   ]
  },
  {
   "cell_type": "code",
   "execution_count": 23,
   "metadata": {},
   "outputs": [],
   "source": [
    "def L2NN():\n",
    "    global l2_model_history\n",
    "    l2_model = keras.models.Sequential([\n",
    "        keras.layers.Dense(16, kernel_regularizer=keras.regularizers.l2(0.001),\n",
    "                           activation=tf.nn.relu, input_shape=(NUM_WORDS,)),\n",
    "        keras.layers.Dense(16, kernel_regularizer=keras.regularizers.l2(0.001),\n",
    "                           activation=tf.nn.relu),\n",
    "        keras.layers.Dense(1, activation=tf.nn.sigmoid)\n",
    "    ])\n",
    "\n",
    "    l2_model.compile(optimizer='adam',\n",
    "                     loss='binary_crossentropy',\n",
    "                     metrics=['accuracy', 'binary_crossentropy'])\n",
    "\n",
    "    l2_model_history = l2_model.fit(train_data, train_labels,\n",
    "                                    epochs=20,\n",
    "                                    batch_size=512,\n",
    "                                    validation_data=(test_data, test_labels),\n",
    "                                    verbose=2)    \n"
   ]
  },
  {
   "cell_type": "code",
   "execution_count": 25,
   "metadata": {},
   "outputs": [],
   "source": [
    "def randomDropoutNN():\n",
    "    global dpt_model_history\n",
    "    dpt_model = keras.models.Sequential([\n",
    "        keras.layers.Dense(16, activation=tf.nn.relu, input_shape=(NUM_WORDS,)),\n",
    "        keras.layers.Dropout(0.5),\n",
    "        keras.layers.Dense(16, activation=tf.nn.relu),\n",
    "        keras.layers.Dropout(0.5),\n",
    "        keras.layers.Dense(1, activation=tf.nn.sigmoid)\n",
    "    ])\n",
    "\n",
    "    dpt_model.compile(optimizer='adam',\n",
    "                      loss='binary_crossentropy',\n",
    "                      metrics=['accuracy','binary_crossentropy'])\n",
    "\n",
    "    dpt_model_history = dpt_model.fit(train_data, train_labels,\n",
    "                                      epochs=20,\n",
    "                                      batch_size=512,\n",
    "                                      validation_data=(test_data, test_labels),\n",
    "                                      verbose=2)"
   ]
  },
  {
   "cell_type": "code",
   "execution_count": 26,
   "metadata": {},
   "outputs": [],
   "source": [
    "def plot_history(histories, key='binary_crossentropy'):\n",
    "    plt.figure(figsize=(16,10))\n",
    "\n",
    "    for name, history in histories:\n",
    "        val = plt.plot(history.epoch, history.history['val_'+key],\n",
    "                   '--', label=name.title()+' Val')\n",
    "        plt.plot(history.epoch, history.history[key], color=val[0].get_color(),\n",
    "             label=name.title()+' Train')\n",
    "\n",
    "    plt.xlabel('Epochs')\n",
    "    plt.ylabel(key.replace('_',' ').title())\n",
    "    plt.legend()\n",
    "\n",
    "    plt.xlim([0,max(history.epoch)])\n"
   ]
  },
  {
   "cell_type": "code",
   "execution_count": 27,
   "metadata": {},
   "outputs": [],
   "source": [
    "def drawTrade():\n",
    "    import matplotlib.pyplot as plt\n",
    "    global history\n",
    "    acc = history.history['acc']\n",
    "    val_acc = history.history['val_acc']\n",
    "    loss = history.history['loss']\n",
    "    val_loss = history.history['val_loss']\n",
    "    \n",
    "    epochs = range(1, len(acc) + 1)\n",
    "    plt.plot(epochs, loss, 'bo', label = 'Training loss')\n",
    "    plt.plot(epochs, val_loss, 'b', label = 'Validation loss')\n",
    "    plt.title('Training and validation loss')\n",
    "    plt.xlabel('Epochs')\n",
    "    plt.ylabel('Loss')\n",
    "    plt.legend()\n",
    "    plt.show()\n",
    "    \n",
    "    plt.clf()   # clear figure\n",
    "    acc_values = history.history['acc']\n",
    "    val_acc_values = history.history['val_acc']\n",
    "\n",
    "    plt.plot(epochs, acc, 'bo', label='Training acc')\n",
    "    plt.plot(epochs, val_acc, 'b', label='Validation acc')\n",
    "    plt.title('Training and validation accuracy')\n",
    "    plt.xlabel('Epochs')\n",
    "    plt.ylabel('Accuracy')\n",
    "    plt.legend()\n",
    "\n",
    "    plt.show()"
   ]
  },
  {
   "cell_type": "markdown",
   "metadata": {},
   "source": [
    "### Main()"
   ]
  },
  {
   "cell_type": "code",
   "execution_count": 29,
   "metadata": {},
   "outputs": [
    {
     "name": "stdout",
     "output_type": "stream",
     "text": [
      "Training entries:25000, labels:25000\n",
      "train_data.shape:(25000,)\n",
      "length of train_data[0]:218 length of train_data[1]:189\n",
      "Train on 25000 samples, validate on 25000 samples\n",
      "Epoch 1/20\n",
      " - 9s - loss: 0.6383 - acc: 0.6200 - binary_crossentropy: 0.6383 - val_loss: 0.5255 - val_acc: 0.8284 - val_binary_crossentropy: 0.5255\n",
      "Epoch 2/20\n",
      " - 6s - loss: 0.4995 - acc: 0.7940 - binary_crossentropy: 0.4995 - val_loss: 0.4005 - val_acc: 0.8741 - val_binary_crossentropy: 0.4005\n",
      "Epoch 3/20\n",
      " - 6s - loss: 0.3959 - acc: 0.8618 - binary_crossentropy: 0.3959 - val_loss: 0.3303 - val_acc: 0.8808 - val_binary_crossentropy: 0.3303\n",
      "Epoch 4/20\n",
      " - 8s - loss: 0.3245 - acc: 0.8921 - binary_crossentropy: 0.3245 - val_loss: 0.3030 - val_acc: 0.8833 - val_binary_crossentropy: 0.3030\n",
      "Epoch 5/20\n",
      " - 5s - loss: 0.2776 - acc: 0.9079 - binary_crossentropy: 0.2776 - val_loss: 0.2960 - val_acc: 0.8819 - val_binary_crossentropy: 0.2960\n",
      "Epoch 6/20\n",
      " - 6s - loss: 0.2407 - acc: 0.9215 - binary_crossentropy: 0.2407 - val_loss: 0.3011 - val_acc: 0.8800 - val_binary_crossentropy: 0.3011\n",
      "Epoch 7/20\n",
      " - 5s - loss: 0.2092 - acc: 0.9320 - binary_crossentropy: 0.2092 - val_loss: 0.3109 - val_acc: 0.8774 - val_binary_crossentropy: 0.3109\n",
      "Epoch 8/20\n",
      " - 6s - loss: 0.1847 - acc: 0.9417 - binary_crossentropy: 0.1847 - val_loss: 0.3382 - val_acc: 0.8767 - val_binary_crossentropy: 0.3382\n",
      "Epoch 9/20\n",
      " - 6s - loss: 0.1635 - acc: 0.9471 - binary_crossentropy: 0.1635 - val_loss: 0.3503 - val_acc: 0.8756 - val_binary_crossentropy: 0.3503\n",
      "Epoch 10/20\n",
      " - 6s - loss: 0.1479 - acc: 0.9508 - binary_crossentropy: 0.1479 - val_loss: 0.3760 - val_acc: 0.8737 - val_binary_crossentropy: 0.3760\n",
      "Epoch 11/20\n",
      " - 6s - loss: 0.1333 - acc: 0.9562 - binary_crossentropy: 0.1333 - val_loss: 0.3998 - val_acc: 0.8729 - val_binary_crossentropy: 0.3998\n",
      "Epoch 12/20\n",
      " - 5s - loss: 0.1258 - acc: 0.9567 - binary_crossentropy: 0.1258 - val_loss: 0.4274 - val_acc: 0.8724 - val_binary_crossentropy: 0.4274\n",
      "Epoch 13/20\n",
      " - 6s - loss: 0.1166 - acc: 0.9602 - binary_crossentropy: 0.1166 - val_loss: 0.4376 - val_acc: 0.8718 - val_binary_crossentropy: 0.4376\n",
      "Epoch 14/20\n",
      " - 7s - loss: 0.1071 - acc: 0.9637 - binary_crossentropy: 0.1071 - val_loss: 0.4632 - val_acc: 0.8699 - val_binary_crossentropy: 0.4632\n",
      "Epoch 15/20\n",
      " - 6s - loss: 0.1004 - acc: 0.9648 - binary_crossentropy: 0.1004 - val_loss: 0.4674 - val_acc: 0.8714 - val_binary_crossentropy: 0.4674\n",
      "Epoch 16/20\n",
      " - 5s - loss: 0.0967 - acc: 0.9659 - binary_crossentropy: 0.0967 - val_loss: 0.4783 - val_acc: 0.8706 - val_binary_crossentropy: 0.4783\n",
      "Epoch 17/20\n",
      " - 5s - loss: 0.0884 - acc: 0.9676 - binary_crossentropy: 0.0884 - val_loss: 0.5198 - val_acc: 0.8696 - val_binary_crossentropy: 0.5198\n",
      "Epoch 18/20\n",
      " - 7s - loss: 0.0849 - acc: 0.9677 - binary_crossentropy: 0.0849 - val_loss: 0.5460 - val_acc: 0.8688 - val_binary_crossentropy: 0.5460\n",
      "Epoch 19/20\n",
      " - 5s - loss: 0.0794 - acc: 0.9701 - binary_crossentropy: 0.0794 - val_loss: 0.5537 - val_acc: 0.8690 - val_binary_crossentropy: 0.5537\n",
      "Epoch 20/20\n",
      " - 6s - loss: 0.0798 - acc: 0.9691 - binary_crossentropy: 0.0798 - val_loss: 0.5787 - val_acc: 0.8701 - val_binary_crossentropy: 0.5787\n"
     ]
    },
    {
     "ename": "AttributeError",
     "evalue": "'NoneType' object has no attribute 'epoch'",
     "output_type": "error",
     "traceback": [
      "\u001b[1;31m---------------------------------------------------------------------------\u001b[0m",
      "\u001b[1;31mAttributeError\u001b[0m                            Traceback (most recent call last)",
      "\u001b[1;32m<ipython-input-29-1436c517f32e>\u001b[0m in \u001b[0;36m<module>\u001b[1;34m\u001b[0m\n\u001b[0;32m     20\u001b[0m     plot_history([('baseline', baseline_history),\n\u001b[0;32m     21\u001b[0m                   \u001b[1;33m(\u001b[0m\u001b[1;34m'l2'\u001b[0m\u001b[1;33m,\u001b[0m \u001b[0ml2_model_history\u001b[0m\u001b[1;33m)\u001b[0m\u001b[1;33m,\u001b[0m\u001b[1;33m\u001b[0m\u001b[0m\n\u001b[1;32m---> 22\u001b[1;33m                     ('dropout', dpt_model_history)])\n\u001b[0m",
      "\u001b[1;32m<ipython-input-26-e116e8a5ac38>\u001b[0m in \u001b[0;36mplot_history\u001b[1;34m(histories, key)\u001b[0m\n\u001b[0;32m      3\u001b[0m \u001b[1;33m\u001b[0m\u001b[0m\n\u001b[0;32m      4\u001b[0m     \u001b[1;32mfor\u001b[0m \u001b[0mname\u001b[0m\u001b[1;33m,\u001b[0m \u001b[0mhistory\u001b[0m \u001b[1;32min\u001b[0m \u001b[0mhistories\u001b[0m\u001b[1;33m:\u001b[0m\u001b[1;33m\u001b[0m\u001b[0m\n\u001b[1;32m----> 5\u001b[1;33m         val = plt.plot(history.epoch, history.history['val_'+key],\n\u001b[0m\u001b[0;32m      6\u001b[0m                    '--', label=name.title()+' Val')\n\u001b[0;32m      7\u001b[0m         plt.plot(history.epoch, history.history[key], color=val[0].get_color(),\n",
      "\u001b[1;31mAttributeError\u001b[0m: 'NoneType' object has no attribute 'epoch'"
     ]
    },
    {
     "data": {
      "image/png": "[encoded data removed]",
      "text/plain": [
       "<Figure size 432x288 with 1 Axes>"
      ]
     },
     "metadata": {
      "needs_background": "light"
     },
     "output_type": "display_data"
    },
    {
     "data": {
      "text/plain": [
       "<Figure size 1152x720 with 0 Axes>"
      ]
     },
     "metadata": {},
     "output_type": "display_data"
    }
   ],
   "source": [
    "if __name__=='__main__':\n",
    "    isPrepareDatasetsNeeded = True\n",
    "    if isPrepareDatasetsNeeded:\n",
    "        loadDatasets()\n",
    "    restractOverFit()\n",
    "    isTrainingNeeded = False\n",
    "    if isTrainingNeeded:\n",
    "        #neualNetwork()\n",
    "        baseNN()\n",
    "        smallerNN()\n",
    "        biggerNN()\n",
    "        L2NN()\n",
    "        randomDropoutNN()        \n",
    "        plot_history([('baseline', baseline_history),\n",
    "                  ('smaller', smaller_history),\n",
    "                  ('bigger', bigger_history),\n",
    "                  ('l2', l2_model_history),\n",
    "                  ('dropout', dpt_model_history)])                      \n",
    "    #print(decode_review(train_data[0]))\n",
    "    #drawTrade()\n"
   ]
  }
 ],
 "metadata": {
  "kernelspec": {
   "display_name": "Python 3",
   "language": "python",
   "name": "python3"
  },
  "language_info": {
   "codemirror_mode": {
    "name": "ipython",
    "version": 3
   },
   "file_extension": ".py",
   "mimetype": "text/x-python",
   "name": "python",
   "nbconvert_exporter": "python",
   "pygments_lexer": "ipython3",
   "version": "3.6.5"
  }
 },
 "nbformat": 4,
 "nbformat_minor": 2
}
