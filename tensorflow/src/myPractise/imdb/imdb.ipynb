{
 "cells": [
  {
   "cell_type": "code",
   "execution_count": 1,
   "metadata": {},
   "outputs": [
    {
     "name": "stdout",
     "output_type": "stream",
     "text": [
      "1.12.0\n"
     ]
    }
   ],
   "source": [
    "import tensorflow as tf\n",
    "from tensorflow import keras\n",
    "import numpy as np\n",
    "import os\n",
    "import matplotlib.pyplot as plt\n",
    "\n",
    "print(tf.__version__)\n",
    "\n",
    "NUM_WORDS = 10000\n",
    "reverse_word_index = None\n",
    "train_data = None\n",
    "train_labels = None\n",
    "test_data = None\n",
    "test_labels = None\n",
    "history = None"
   ]
  },
  {
   "cell_type": "markdown",
   "metadata": {},
   "source": [
    "### Get data and create dictionary for word index"
   ]
  },
  {
   "cell_type": "code",
   "execution_count": 2,
   "metadata": {},
   "outputs": [],
   "source": [
    "def loadDatasets():\n",
    "    global train_data, train_labels, test_data, test_labels\n",
    "    imdb = keras.datasets.imdb\n",
    "    (train_data, train_labels), (test_data, test_labels) = imdb.load_data(num_words=10000, path=os.getcwd() + r\"\\datasets\\imdb.npz\")\n",
    "    print(\"Training entries:{}, labels:{}\".format(len(train_data), len(train_labels)))\n",
    "    print(\"train_data.shape:{}\\nlength of train_data[0]:{} length of train_data[1]:{}\"\n",
    "          .format(train_data.shape, len(train_data[0]), len(train_data[1])))\n",
    "    \n",
    "    global reverse_word_index\n",
    "    # A dictionary mapping words to an integer index\n",
    "    word_index = imdb.get_word_index(path=os.getcwd() + r\"\\datasets\\imdb_word_index.json\")\n",
    "\n",
    "    # The first indices are reserved\n",
    "    word_index = {k:(v+3) for k,v in word_index.items()}\n",
    "    word_index[\"<PAD>\"] = 0\n",
    "    word_index[\"<START>\"] = 1\n",
    "    word_index[\"<UNK>\"] = 2  # unknown\n",
    "    word_index[\"<UNUSED>\"] = 3\n",
    "\n",
    "    reverse_word_index = dict([(value, key) for (key, value) in word_index.items()])\n",
    "    \n",
    "    train_data = keras.preprocessing.sequence.pad_sequences(train_data,\n",
    "                                                           value = word_index[\"<PAD>\"],\n",
    "                                                           padding = 'post',\n",
    "                                                           maxlen = 256)\n",
    "    test_data = keras.preprocessing.sequence.pad_sequences(test_data,\n",
    "                                                       value=word_index[\"<PAD>\"],\n",
    "                                                       padding='post',\n",
    "                                                       maxlen=256)"
   ]
  },
  {
   "cell_type": "code",
   "execution_count": 3,
   "metadata": {},
   "outputs": [],
   "source": [
    "def multi_hot_sequences(sequences, dimension):\n",
    "    # Create an all-zero matrix of shape (len(sequences), dimension)\n",
    "    results = np.zeros((len(sequences), dimension))\n",
    "    for i, word_indices in enumerate(sequences):\n",
    "        results[i, word_indices] = 1.0  # set specific indices of results[i] to 1s\n",
    "    return results"
   ]
  },
  {
   "cell_type": "code",
   "execution_count": 4,
   "metadata": {},
   "outputs": [],
   "source": [
    "def restractOverFit():\n",
    "    global train_data, test_data\n",
    "    train_data = multi_hot_sequences(train_data, dimension=NUM_WORDS)\n",
    "    test_data = multi_hot_sequences(test_data, dimension=NUM_WORDS) \n",
    "    plt.plot(train_data[0])"
   ]
  },
  {
   "cell_type": "code",
   "execution_count": 5,
   "metadata": {},
   "outputs": [],
   "source": [
    "def decode_review(text):\n",
    "    return ' '.join([reverse_word_index[i] for i in text])"
   ]
  },
  {
   "cell_type": "code",
   "execution_count": 6,
   "metadata": {},
   "outputs": [],
   "source": [
    "def neualNetwork():\n",
    "    global history\n",
    "    vocab_size = 10000\n",
    "    \n",
    "    model = keras.Sequential()\n",
    "    model.add(keras.layers.Embedding(vocab_size, 16))\n",
    "    model.add(keras.layers.GlobalAveragePooling1D())\n",
    "    model.add(keras.layers.Dense(16, activation = tf.nn.relu))\n",
    "    model.add(keras.layers.Dense(1, activation = tf.nn.sigmoid))\n",
    "    model.compile(optimizer = tf.train.AdamOptimizer(),\n",
    "                 loss = 'binary_crossentropy',\n",
    "                 metrics = ['accuracy'])\n",
    "    model.summary()\n",
    "    x_val = train_data[:10000]\n",
    "    partial_x_train = train_data[10000:]\n",
    "    y_val = train_labels[:10000]\n",
    "    partial_y_train = train_labels[10000:]\n",
    "    \n",
    "    history = model.fit(partial_x_train,\n",
    "                       partial_y_train,\n",
    "                       epochs = 40,\n",
    "                       batch_size =512,\n",
    "                       validation_data = (x_val, y_val),\n",
    "                       verbose =1)\n",
    "    result = model.evaluate(test_data, test_labels)\n",
    "    print(result)"
   ]
  },
  {
   "cell_type": "code",
   "execution_count": 7,
   "metadata": {},
   "outputs": [],
   "source": [
    "def drawTrade():\n",
    "    import matplotlib.pyplot as plt\n",
    "    acc = history.history['acc']\n",
    "    val_acc = history.history['val_acc']\n",
    "    loss = history.history['loss']\n",
    "    val_loss = history.history['val_loss']\n",
    "    \n",
    "    epochs = range(1, len(acc) + 1)\n",
    "    plt.plot(epochs, loss, 'bo', label = 'Training loss')\n",
    "    plt.plot(epochs, val_loss, 'b', label = 'Validation loss')\n",
    "    plt.title('Training and validation loss')\n",
    "    plt.xlabel('Epochs')\n",
    "    plt.ylabel('Loss')\n",
    "    plt.legend()\n",
    "    plt.show()\n",
    "    \n",
    "    plt.clf()   # clear figure\n",
    "    acc_values = history.history['acc']\n",
    "    val_acc_values = history.history['val_acc']\n",
    "\n",
    "    plt.plot(epochs, acc, 'bo', label='Training acc')\n",
    "    plt.plot(epochs, val_acc, 'b', label='Validation acc')\n",
    "    plt.title('Training and validation accuracy')\n",
    "    plt.xlabel('Epochs')\n",
    "    plt.ylabel('Accuracy')\n",
    "    plt.legend()\n",
    "\n",
    "    plt.show()"
   ]
  },
  {
   "cell_type": "markdown",
   "metadata": {},
   "source": [
    "### Main()"
   ]
  },
  {
   "cell_type": "code",
   "execution_count": 8,
   "metadata": {},
   "outputs": [
    {
     "name": "stdout",
     "output_type": "stream",
     "text": [
      "Training entries:25000, labels:25000\n",
      "train_data.shape:(25000,)\n",
      "length of train_data[0]:218 length of train_data[1]:189\n"
     ]
    },
    {
     "ename": "NameError",
     "evalue": "name 'isTraingDataNeeded' is not defined",
     "output_type": "error",
     "traceback": [
      "\u001b[1;31m---------------------------------------------------------------------------\u001b[0m",
      "\u001b[1;31mNameError\u001b[0m                                 Traceback (most recent call last)",
      "\u001b[1;32m<ipython-input-8-d2f2e847f1dc>\u001b[0m in \u001b[0;36m<module>\u001b[1;34m\u001b[0m\n\u001b[0;32m      4\u001b[0m         \u001b[0mloadDatasets\u001b[0m\u001b[1;33m(\u001b[0m\u001b[1;33m)\u001b[0m\u001b[1;33m\u001b[0m\u001b[0m\n\u001b[0;32m      5\u001b[0m     \u001b[0misTrainingDataNeeded\u001b[0m \u001b[1;33m=\u001b[0m \u001b[1;32mFalse\u001b[0m\u001b[1;33m\u001b[0m\u001b[0m\n\u001b[1;32m----> 6\u001b[1;33m     \u001b[1;32mif\u001b[0m \u001b[0misTraingDataNeeded\u001b[0m\u001b[1;33m:\u001b[0m\u001b[1;33m\u001b[0m\u001b[0m\n\u001b[0m\u001b[0;32m      7\u001b[0m         \u001b[0mneualNetwork\u001b[0m\u001b[1;33m(\u001b[0m\u001b[1;33m)\u001b[0m\u001b[1;33m\u001b[0m\u001b[0m\n\u001b[0;32m      8\u001b[0m     \u001b[0mprint\u001b[0m\u001b[1;33m(\u001b[0m\u001b[0mdecode_review\u001b[0m\u001b[1;33m(\u001b[0m\u001b[0mtrain_data\u001b[0m\u001b[1;33m[\u001b[0m\u001b[1;36m0\u001b[0m\u001b[1;33m]\u001b[0m\u001b[1;33m)\u001b[0m\u001b[1;33m)\u001b[0m\u001b[1;33m\u001b[0m\u001b[0m\n",
      "\u001b[1;31mNameError\u001b[0m: name 'isTraingDataNeeded' is not defined"
     ]
    }
   ],
   "source": [
    "if __name__=='__main__':\n",
    "    isPrepareDatasetsNeeded = True\n",
    "    if isPrepareDatasetsNeeded:\n",
    "        loadDatasets()\n",
    "    isTrainingDataNeeded = False\n",
    "    if isTraingDataNeeded:\n",
    "        neualNetwork()\n",
    "    print(decode_review(train_data[0]))\n",
    "    drawTrade()\n",
    "    restractOverFit()"
   ]
  }
 ],
 "metadata": {
  "kernelspec": {
   "display_name": "Python 3",
   "language": "python",
   "name": "python3"
  },
  "language_info": {
   "codemirror_mode": {
    "name": "ipython",
    "version": 3
   },
   "file_extension": ".py",
   "mimetype": "text/x-python",
   "name": "python",
   "nbconvert_exporter": "python",
   "pygments_lexer": "ipython3",
   "version": "3.6.5"
  }
 },
 "nbformat": 4,
 "nbformat_minor": 2
}
