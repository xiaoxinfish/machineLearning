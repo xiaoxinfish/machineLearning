{
 "cells": [
  {
   "cell_type": "code",
   "execution_count": 20,
   "metadata": {},
   "outputs": [
    {
     "name": "stdout",
     "output_type": "stream",
     "text": [
      "1.12.0\n"
     ]
    }
   ],
   "source": [
    "import tensorflow as tf\n",
    "import numpy as np\n",
    "\n",
    "print(tf.__version__)"
   ]
  },
  {
   "cell_type": "markdown",
   "metadata": {},
   "source": [
    "# mnist"
   ]
  },
  {
   "cell_type": "code",
   "execution_count": 19,
   "metadata": {},
   "outputs": [
    {
     "name": "stdout",
     "output_type": "stream",
     "text": [
      "1.12.0\n",
      "Epoch 1/5\n",
      "60000/60000 [==============================] - 24s 394us/step - loss: 0.2017 - acc: 0.9406\n",
      "Epoch 2/5\n",
      "60000/60000 [==============================] - 25s 421us/step - loss: 0.0805 - acc: 0.97531s -\n",
      "Epoch 3/5\n",
      "60000/60000 [==============================] - 22s 374us/step - loss: 0.0534 - acc: 0.9831\n",
      "Epoch 4/5\n",
      "60000/60000 [==============================] - 22s 371us/step - loss: 0.0374 - acc: 0.9878\n",
      "Epoch 5/5\n",
      "60000/60000 [==============================] - 21s 358us/step - loss: 0.0269 - acc: 0.9914\n",
      "10000/10000 [==============================] - 1s 89us/step\n"
     ]
    },
    {
     "data": {
      "text/plain": [
       "[0.07496249241040351, 0.9773]"
      ]
     },
     "execution_count": 19,
     "metadata": {},
     "output_type": "execute_result"
    }
   ],
   "source": [
    "def practise_mnist():\n",
    "    path = r'E:\\Projects\\machineLearning\\tensorflow\\datasets\\mnist.npz'\n",
    "    f = np.load(path)\n",
    "    x_train, y_train, x_test, y_test = f['x_train'], f['y_train'], f['x_test'], f['y_test']\n",
    "    x_train, x_test = x_train / 255.0, x_test / 255.0\n",
    "\n",
    "    model = tf.keras.models.Sequential([\n",
    "        tf.keras.layers.Flatten(),\n",
    "        tf.keras.layers.Dense(512, activation = tf.nn.relu),\n",
    "        tf.keras.layers.Dropout(0.2),\n",
    "        tf.keras.layers.Dense(10, activation = tf.nn.softmax)\n",
    "    ])\n",
    "\n",
    "    model.compile(optimizer = 'adam',\n",
    "                 loss = 'sparse_categorical_crossentropy',\n",
    "                 metrics = ['accuracy'])\n",
    "\n",
    "    model.fit(x_train, y_train, epochs = 5)\n",
    "    model.evaluate(x_test, y_test)\n"
   ]
  },
  {
   "cell_type": "code",
   "execution_count": null,
   "metadata": {},
   "outputs": [],
   "source": []
  },
  {
   "cell_type": "markdown",
   "metadata": {},
   "source": [
    "# fashion_mnist"
   ]
  },
  {
   "cell_type": "code",
   "execution_count": 27,
   "metadata": {},
   "outputs": [],
   "source": [
    "def practise_fashion_mnist():\n",
    "    #path = r'E:\\Projects\\machineLearning\\tensorflow\\datasets\\mnist.npz'\n",
    "    #f = np.load(path)\n",
    "    #x_train, y_train, x_test, y_test = f['x_train'], f['y_train'], f['x_test'], f['y_test']\n",
    "    #x_train, x_test = x_train / 255.0, x_test / 255.0\n",
    "    fashion_mnist = tf.keras.datasets.fashion_mnist\n",
    "\n",
    "    (train_images, train_labels), (test_images, test_labels) = fashion_mnist.load_data()\n",
    "\n",
    "    model = tf.keras.models.Sequential([\n",
    "        tf.keras.layers.Flatten(),\n",
    "        tf.keras.layers.Dense(512, activation = tf.nn.relu),\n",
    "        tf.keras.layers.Dropout(0.2),\n",
    "        tf.keras.layers.Dense(10, activation = tf.nn.softmax)\n",
    "    ])\n",
    "\n",
    "    model.compile(optimizer = 'adam',\n",
    "                 loss = 'sparse_categorical_crossentropy',\n",
    "                 metrics = ['accuracy'])\n",
    "\n",
    "    model.fit(x_train, y_train, epochs = 5)\n",
    "    model.evaluate(x_test, y_test)    "
   ]
  },
  {
   "cell_type": "markdown",
   "metadata": {},
   "source": [
    "# Main()"
   ]
  },
  {
   "cell_type": "code",
   "execution_count": null,
   "metadata": {},
   "outputs": [
    {
     "name": "stdout",
     "output_type": "stream",
     "text": [
      "Downloading data from https://storage.googleapis.com/tensorflow/tf-keras-datasets/train-labels-idx1-ubyte.gz\n",
      "32768/29515 [=================================] - 0s 3us/step\n",
      "Downloading data from https://storage.googleapis.com/tensorflow/tf-keras-datasets/train-images-idx3-ubyte.gz\n",
      " 6758400/26421880 [======>.......................] - ETA: 5s"
     ]
    }
   ],
   "source": [
    "if __name__ == '__main__':\n",
    "    practise_fashion_mnist()"
   ]
  }
 ],
 "metadata": {
  "kernelspec": {
   "display_name": "Python 3",
   "language": "python",
   "name": "python3"
  },
  "language_info": {
   "codemirror_mode": {
    "name": "ipython",
    "version": 3
   },
   "file_extension": ".py",
   "mimetype": "text/x-python",
   "name": "python",
   "nbconvert_exporter": "python",
   "pygments_lexer": "ipython3",
   "version": "3.6.5"
  }
 },
 "nbformat": 4,
 "nbformat_minor": 2
}
